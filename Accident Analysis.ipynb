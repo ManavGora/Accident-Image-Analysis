{
 "cells": [
  {
   "cell_type": "markdown",
   "id": "4f7f0e28",
   "metadata": {},
   "source": [
    "# Large Multi-Modal Foundation Model for Traffic Accident Analysis / Detection"
   ]
  },
  {
   "cell_type": "code",
   "execution_count": 11,
   "id": "f4249c7f",
   "metadata": {},
   "outputs": [],
   "source": [
    "import numpy as np \n",
    "import pandas as pd \n",
    "import matplotlib.pyplot as plt\n",
    "import tensorflow as tf\n",
    "from tensorflow.keras import layers\n",
    "import cv2"
   ]
  },
  {
   "cell_type": "code",
   "execution_count": 28,
   "id": "c8cfdf97",
   "metadata": {},
   "outputs": [],
   "source": [
    "# Set constants for batch size and image dimensions\n",
    "batch_size = 32\n",
    "img_height = 224\n",
    "img_width = 224\n",
    "\n",
    "# Load and preprocess images\n",
    "def preprocess_image(image):\n",
    "    image = tf.image.resize(image, (250, 250))\n",
    "    image = tf.cast(image, tf.float32) / 255.0\n",
    "    return image\n",
    "\n"
   ]
  },
  {
   "cell_type": "code",
   "execution_count": 23,
   "id": "42ae95a9",
   "metadata": {},
   "outputs": [
    {
     "name": "stdout",
     "output_type": "stream",
     "text": [
      "Found 791 files belonging to 2 classes.\n",
      "Found 100 files belonging to 2 classes.\n",
      "Found 98 files belonging to 2 classes.\n"
     ]
    }
   ],
   "source": [
    "# Load training, testing, and validation datasets\n",
    "train_data_dir = '/Users/manavgora/Desktop/Machine Learning/data/train'\n",
    "test_data_dir = '/Users/manavgora/Desktop/Machine Learning/data/test'\n",
    "val_data_dir = '/Users/manavgora/Desktop/Machine Learning/data/val'\n",
    "\n",
    "train_ds = tf.keras.preprocessing.image_dataset_from_directory(\n",
    "    train_data_dir,\n",
    "    seed=101,\n",
    "    image_size=(img_height, img_width),\n",
    "    batch_size=batch_size,\n",
    "    label_mode='binary',\n",
    ")\n",
    "\n",
    "test_ds = tf.keras.preprocessing.image_dataset_from_directory(\n",
    "    test_data_dir,\n",
    "    seed=101,\n",
    "    image_size=(img_height, img_width),\n",
    "    batch_size=batch_size,\n",
    "    label_mode='binary',\n",
    ")\n",
    "\n",
    "val_ds = tf.keras.preprocessing.image_dataset_from_directory(\n",
    "    val_data_dir,\n",
    "    seed=101,\n",
    "    image_size=(img_height, img_width),\n",
    "    batch_size=batch_size,\n",
    "    label_mode='binary',\n",
    ")"
   ]
  },
  {
   "cell_type": "markdown",
   "id": "5de0cd0a",
   "metadata": {},
   "source": [
    "The provided code retrieves the class names from the training dataset (training_ds) and configures the datasets (training_ds and testing_ds) for performance using caching and prefetching techniques."
   ]
  },
  {
   "cell_type": "code",
   "execution_count": 24,
   "id": "11e70bdd",
   "metadata": {},
   "outputs": [],
   "source": [
    "# Retrieve class names from training dataset\n",
    "class_names = train_ds.class_names\n",
    "\n",
    "# Configure dataset for performance\n",
    "AUTOTUNE = tf.data.experimental.AUTOTUNE\n",
    "train_ds = train_ds.cache().prefetch(buffer_size=AUTOTUNE)\n",
    "test_ds = test_ds.cache().prefetch(buffer_size=AUTOTUNE)\n",
    "val_ds = val_ds.cache().prefetch(buffer_size=AUTOTUNE)"
   ]
  },
  {
   "cell_type": "markdown",
   "id": "810c3c13",
   "metadata": {},
   "source": [
    "# Pre trained model - MobileNetV2"
   ]
  },
  {
   "cell_type": "code",
   "execution_count": 36,
   "id": "38ace01b",
   "metadata": {},
   "outputs": [
    {
     "name": "stdout",
     "output_type": "stream",
     "text": [
      "Downloading data from https://storage.googleapis.com/tensorflow/keras-applications/mobilenet_v2/mobilenet_v2_weights_tf_dim_ordering_tf_kernels_1.0_224_no_top.h5\n",
      "9406464/9406464 [==============================] - 2s 0us/step\n"
     ]
    }
   ],
   "source": [
    "img_shape = (img_height, img_width, 3)\n",
    "\n",
    "base_model = tf.keras.applications.MobileNetV2(input_shape=img_shape,\n",
    "                                               include_top=False,\n",
    "                                               weights='imagenet')\n",
    "\n",
    "base_model.trainable = False\n"
   ]
  },
  {
   "cell_type": "markdown",
   "id": "4e09ac4b",
   "metadata": {},
   "source": [
    "\n",
    "# Final Model Creation"
   ]
  },
  {
   "cell_type": "code",
   "execution_count": 37,
   "id": "2005501c",
   "metadata": {},
   "outputs": [],
   "source": [
    "model = tf.keras.Sequential([\n",
    "    base_model,\n",
    "    layers.Conv2D(32, 3, activation='relu'),\n",
    "    layers.Conv2D(64, 3, activation='relu'),\n",
    "    layers.Conv2D(128, 3, activation='relu'),\n",
    "    layers.Flatten(),\n",
    "    layers.Dense(len(class_names), activation= 'softmax')\n",
    "])\n"
   ]
  },
  {
   "cell_type": "code",
   "execution_count": null,
   "id": "21889f22",
   "metadata": {},
   "outputs": [],
   "source": [
    "model.compile(optimizer='adam',loss='sparse_categorical_crossentropy', metrics=['accuracy'])"
   ]
  },
  {
   "cell_type": "code",
   "execution_count": null,
   "id": "2fb9b12c",
   "metadata": {},
   "outputs": [],
   "source": [
    "history = model.fit(train_ds, validation_data = val_ds, epochs = 15)"
   ]
  },
  {
   "cell_type": "code",
   "execution_count": null,
   "id": "800dadeb",
   "metadata": {},
   "outputs": [],
   "source": [
    "plt.plot(history.history['loss'], label = 'training loss')\n",
    "plt.plot(history.history['accuracy'], label = 'training accuracy')\n",
    "plt.grid(True)\n",
    "plt.legend()"
   ]
  },
  {
   "cell_type": "code",
   "execution_count": null,
   "id": "04afcc90",
   "metadata": {},
   "outputs": [],
   "source": [
    "plt.plot(history.history['val_loss'], label = 'validation loss')\n",
    "plt.plot(history.history['val_accuracy'], label = 'validation accuracy')\n",
    "plt.grid(True)\n",
    "plt.legend()"
   ]
  },
  {
   "cell_type": "code",
   "execution_count": null,
   "id": "1a9f7da9",
   "metadata": {},
   "outputs": [],
   "source": []
  },
  {
   "cell_type": "code",
   "execution_count": null,
   "id": "7907aa3e",
   "metadata": {},
   "outputs": [],
   "source": []
  },
  {
   "cell_type": "code",
   "execution_count": null,
   "id": "d471bc84",
   "metadata": {},
   "outputs": [],
   "source": []
  },
  {
   "cell_type": "code",
   "execution_count": null,
   "id": "15f9121c",
   "metadata": {},
   "outputs": [],
   "source": []
  },
  {
   "cell_type": "code",
   "execution_count": null,
   "id": "f11c485c",
   "metadata": {},
   "outputs": [],
   "source": []
  },
  {
   "cell_type": "code",
   "execution_count": null,
   "id": "edc712ec",
   "metadata": {},
   "outputs": [],
   "source": []
  }
 ],
 "metadata": {
  "kernelspec": {
   "display_name": "Python 3 (ipykernel)",
   "language": "python",
   "name": "python3"
  },
  "language_info": {
   "codemirror_mode": {
    "name": "ipython",
    "version": 3
   },
   "file_extension": ".py",
   "mimetype": "text/x-python",
   "name": "python",
   "nbconvert_exporter": "python",
   "pygments_lexer": "ipython3",
   "version": "3.10.9"
  }
 },
 "nbformat": 4,
 "nbformat_minor": 5
}
